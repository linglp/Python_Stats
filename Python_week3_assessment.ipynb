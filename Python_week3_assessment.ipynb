{
 "cells": [
  {
   "cell_type": "markdown",
   "metadata": {
    "colab_type": "text",
    "id": "6w1_Mo78NDof"
   },
   "source": [
    "## Creating confidence intervals in python\n",
    "In this assessment, you will look at data from a study on toddler sleep habits. \n",
    "\n",
    "The confidence intervals you create and the questions you answer in this Jupyter notebook will be used to answer questions in the following graded assignment."
   ]
  },
  {
   "cell_type": "code",
   "execution_count": 8,
   "metadata": {
    "colab": {},
    "colab_type": "code",
    "id": "YNKXymB_NDoh"
   },
   "outputs": [],
   "source": [
    "import numpy as np\n",
    "import pandas as pd\n",
    "from scipy.stats import t\n",
    "import statsmodels.api as sm\n",
    "pd.set_option('display.max_columns', 30) # set so can see all columns of the DataFrame"
   ]
  },
  {
   "cell_type": "markdown",
   "metadata": {
    "colab_type": "text",
    "id": "HL4-ACl_NDol"
   },
   "source": [
    "Your goal is to analyse data which is the result of a study that examined\n",
    "differences in a number of sleep variables between napping and non-napping toddlers. Some of these\n",
    "sleep variables included: Bedtime (lights-off time in decimalized time), Night Sleep Onset Time (in\n",
    "decimalized time), Wake Time (sleep end time in decimalized time), Night Sleep Duration (interval\n",
    "between sleep onset and sleep end in minutes), and Total 24-Hour Sleep Duration (in minutes). Note:\n",
    "[Decimalized time](https://en.wikipedia.org/wiki/Decimal_time) is the representation of the time of day using units which are decimally related.   \n",
    "\n",
    "\n",
    "The 20 study participants were healthy, normally developing toddlers with no sleep or behavioral\n",
    "problems. These children were categorized as napping or non-napping based upon parental report of\n",
    "children’s habitual sleep patterns. Researchers then verified napping status with data from actigraphy (a\n",
    "non-invasive method of monitoring human rest/activity cycles by wearing of a sensor on the wrist) and\n",
    "sleep diaries during the 5 days before the study assessments were made.\n",
    "\n",
    "\n",
    "You are specifically interested in the results for the Bedtime, Night Sleep Duration, and Total 24-\n",
    "Hour Sleep Duration. "
   ]
  },
  {
   "cell_type": "markdown",
   "metadata": {
    "colab_type": "text",
    "id": "XHo6lLm_NDol"
   },
   "source": [
    "Reference: Akacem LD, Simpkin CT, Carskadon MA, Wright KP Jr, Jenni OG, Achermann P, et al. (2015) The Timing of the Circadian Clock and Sleep Differ between Napping and Non-Napping Toddlers. PLoS ONE 10(4): e0125181. https://doi.org/10.1371/journal.pone.0125181"
   ]
  },
  {
   "cell_type": "code",
   "execution_count": 2,
   "metadata": {
    "colab": {},
    "colab_type": "code",
    "id": "mBcxVw04NFW9"
   },
   "outputs": [],
   "source": [
    "# Import the data\n",
    "df = pd.read_csv(\"nap_no_nap.csv\") "
   ]
  },
  {
   "cell_type": "code",
   "execution_count": 3,
   "metadata": {
    "colab": {},
    "colab_type": "code",
    "id": "TYe8b7MoNDop"
   },
   "outputs": [
    {
     "data": {
      "text/html": [
       "<div>\n",
       "<style scoped>\n",
       "    .dataframe tbody tr th:only-of-type {\n",
       "        vertical-align: middle;\n",
       "    }\n",
       "\n",
       "    .dataframe tbody tr th {\n",
       "        vertical-align: top;\n",
       "    }\n",
       "\n",
       "    .dataframe thead th {\n",
       "        text-align: right;\n",
       "    }\n",
       "</style>\n",
       "<table border=\"1\" class=\"dataframe\">\n",
       "  <thead>\n",
       "    <tr style=\"text-align: right;\">\n",
       "      <th></th>\n",
       "      <th>id</th>\n",
       "      <th>sex</th>\n",
       "      <th>age (months)</th>\n",
       "      <th>dlmo time</th>\n",
       "      <th>days napped</th>\n",
       "      <th>napping</th>\n",
       "      <th>nap lights outl time</th>\n",
       "      <th>nap sleep onset</th>\n",
       "      <th>nap midsleep</th>\n",
       "      <th>nap sleep offset</th>\n",
       "      <th>nap wake time</th>\n",
       "      <th>nap duration</th>\n",
       "      <th>nap time in bed</th>\n",
       "      <th>night bedtime</th>\n",
       "      <th>night sleep onset</th>\n",
       "      <th>sleep onset latency</th>\n",
       "      <th>night midsleep time</th>\n",
       "      <th>night wake time</th>\n",
       "      <th>night sleep duration</th>\n",
       "      <th>night time in bed</th>\n",
       "      <th>24 h sleep duration</th>\n",
       "      <th>bedtime phase difference</th>\n",
       "      <th>sleep onset phase difference</th>\n",
       "      <th>midsleep phase difference</th>\n",
       "      <th>wake time phase difference</th>\n",
       "    </tr>\n",
       "  </thead>\n",
       "  <tbody>\n",
       "    <tr>\n",
       "      <td>0</td>\n",
       "      <td>1</td>\n",
       "      <td>female</td>\n",
       "      <td>33.7</td>\n",
       "      <td>19.24</td>\n",
       "      <td>0</td>\n",
       "      <td>0</td>\n",
       "      <td>NaN</td>\n",
       "      <td>NaN</td>\n",
       "      <td>NaN</td>\n",
       "      <td>NaN</td>\n",
       "      <td>NaN</td>\n",
       "      <td>NaN</td>\n",
       "      <td>NaN</td>\n",
       "      <td>20.45</td>\n",
       "      <td>20.68</td>\n",
       "      <td>0.23</td>\n",
       "      <td>1.92</td>\n",
       "      <td>7.17</td>\n",
       "      <td>629.4</td>\n",
       "      <td>643.00</td>\n",
       "      <td>629.40</td>\n",
       "      <td>-1.21</td>\n",
       "      <td>-1.44</td>\n",
       "      <td>6.68</td>\n",
       "      <td>11.93</td>\n",
       "    </tr>\n",
       "    <tr>\n",
       "      <td>1</td>\n",
       "      <td>2</td>\n",
       "      <td>female</td>\n",
       "      <td>31.5</td>\n",
       "      <td>18.27</td>\n",
       "      <td>0</td>\n",
       "      <td>0</td>\n",
       "      <td>NaN</td>\n",
       "      <td>NaN</td>\n",
       "      <td>NaN</td>\n",
       "      <td>NaN</td>\n",
       "      <td>NaN</td>\n",
       "      <td>NaN</td>\n",
       "      <td>NaN</td>\n",
       "      <td>19.23</td>\n",
       "      <td>19.48</td>\n",
       "      <td>0.25</td>\n",
       "      <td>1.09</td>\n",
       "      <td>6.69</td>\n",
       "      <td>672.4</td>\n",
       "      <td>700.40</td>\n",
       "      <td>672.40</td>\n",
       "      <td>-0.96</td>\n",
       "      <td>-1.21</td>\n",
       "      <td>6.82</td>\n",
       "      <td>12.42</td>\n",
       "    </tr>\n",
       "    <tr>\n",
       "      <td>2</td>\n",
       "      <td>3</td>\n",
       "      <td>male</td>\n",
       "      <td>31.9</td>\n",
       "      <td>19.14</td>\n",
       "      <td>0</td>\n",
       "      <td>0</td>\n",
       "      <td>NaN</td>\n",
       "      <td>NaN</td>\n",
       "      <td>NaN</td>\n",
       "      <td>NaN</td>\n",
       "      <td>NaN</td>\n",
       "      <td>NaN</td>\n",
       "      <td>NaN</td>\n",
       "      <td>19.60</td>\n",
       "      <td>20.05</td>\n",
       "      <td>0.45</td>\n",
       "      <td>1.29</td>\n",
       "      <td>6.53</td>\n",
       "      <td>628.8</td>\n",
       "      <td>682.60</td>\n",
       "      <td>628.80</td>\n",
       "      <td>-0.46</td>\n",
       "      <td>-0.91</td>\n",
       "      <td>6.15</td>\n",
       "      <td>11.39</td>\n",
       "    </tr>\n",
       "    <tr>\n",
       "      <td>3</td>\n",
       "      <td>4</td>\n",
       "      <td>female</td>\n",
       "      <td>31.6</td>\n",
       "      <td>19.69</td>\n",
       "      <td>0</td>\n",
       "      <td>0</td>\n",
       "      <td>NaN</td>\n",
       "      <td>NaN</td>\n",
       "      <td>NaN</td>\n",
       "      <td>NaN</td>\n",
       "      <td>NaN</td>\n",
       "      <td>NaN</td>\n",
       "      <td>NaN</td>\n",
       "      <td>19.46</td>\n",
       "      <td>19.50</td>\n",
       "      <td>0.05</td>\n",
       "      <td>1.89</td>\n",
       "      <td>8.28</td>\n",
       "      <td>766.6</td>\n",
       "      <td>784.00</td>\n",
       "      <td>766.60</td>\n",
       "      <td>0.23</td>\n",
       "      <td>0.19</td>\n",
       "      <td>6.20</td>\n",
       "      <td>12.59</td>\n",
       "    </tr>\n",
       "    <tr>\n",
       "      <td>4</td>\n",
       "      <td>5</td>\n",
       "      <td>female</td>\n",
       "      <td>33.0</td>\n",
       "      <td>19.52</td>\n",
       "      <td>0</td>\n",
       "      <td>0</td>\n",
       "      <td>NaN</td>\n",
       "      <td>NaN</td>\n",
       "      <td>NaN</td>\n",
       "      <td>NaN</td>\n",
       "      <td>NaN</td>\n",
       "      <td>NaN</td>\n",
       "      <td>NaN</td>\n",
       "      <td>19.21</td>\n",
       "      <td>19.65</td>\n",
       "      <td>0.45</td>\n",
       "      <td>1.30</td>\n",
       "      <td>6.95</td>\n",
       "      <td>678.0</td>\n",
       "      <td>718.00</td>\n",
       "      <td>678.00</td>\n",
       "      <td>0.31</td>\n",
       "      <td>-0.13</td>\n",
       "      <td>5.78</td>\n",
       "      <td>11.43</td>\n",
       "    </tr>\n",
       "    <tr>\n",
       "      <td>5</td>\n",
       "      <td>6</td>\n",
       "      <td>female</td>\n",
       "      <td>36.2</td>\n",
       "      <td>18.22</td>\n",
       "      <td>4</td>\n",
       "      <td>1</td>\n",
       "      <td>14.00</td>\n",
       "      <td>14.22</td>\n",
       "      <td>15.00</td>\n",
       "      <td>15.78</td>\n",
       "      <td>16.28</td>\n",
       "      <td>93.75</td>\n",
       "      <td>137.00</td>\n",
       "      <td>19.95</td>\n",
       "      <td>20.25</td>\n",
       "      <td>0.29</td>\n",
       "      <td>1.26</td>\n",
       "      <td>6.28</td>\n",
       "      <td>602.2</td>\n",
       "      <td>653.80</td>\n",
       "      <td>695.95</td>\n",
       "      <td>-1.73</td>\n",
       "      <td>-2.03</td>\n",
       "      <td>7.05</td>\n",
       "      <td>12.06</td>\n",
       "    </tr>\n",
       "    <tr>\n",
       "      <td>6</td>\n",
       "      <td>7</td>\n",
       "      <td>male</td>\n",
       "      <td>36.3</td>\n",
       "      <td>19.28</td>\n",
       "      <td>1</td>\n",
       "      <td>1</td>\n",
       "      <td>14.75</td>\n",
       "      <td>15.03</td>\n",
       "      <td>15.92</td>\n",
       "      <td>16.80</td>\n",
       "      <td>16.08</td>\n",
       "      <td>106.00</td>\n",
       "      <td>80.00</td>\n",
       "      <td>20.60</td>\n",
       "      <td>20.96</td>\n",
       "      <td>0.36</td>\n",
       "      <td>2.12</td>\n",
       "      <td>7.27</td>\n",
       "      <td>618.4</td>\n",
       "      <td>655.40</td>\n",
       "      <td>724.40</td>\n",
       "      <td>-1.32</td>\n",
       "      <td>-1.68</td>\n",
       "      <td>6.84</td>\n",
       "      <td>11.99</td>\n",
       "    </tr>\n",
       "    <tr>\n",
       "      <td>7</td>\n",
       "      <td>8</td>\n",
       "      <td>male</td>\n",
       "      <td>30.0</td>\n",
       "      <td>21.06</td>\n",
       "      <td>5</td>\n",
       "      <td>1</td>\n",
       "      <td>13.09</td>\n",
       "      <td>13.43</td>\n",
       "      <td>14.44</td>\n",
       "      <td>15.46</td>\n",
       "      <td>15.82</td>\n",
       "      <td>121.60</td>\n",
       "      <td>163.80</td>\n",
       "      <td>22.01</td>\n",
       "      <td>22.53</td>\n",
       "      <td>0.51</td>\n",
       "      <td>2.92</td>\n",
       "      <td>7.31</td>\n",
       "      <td>526.8</td>\n",
       "      <td>582.40</td>\n",
       "      <td>648.40</td>\n",
       "      <td>-0.95</td>\n",
       "      <td>-1.47</td>\n",
       "      <td>5.86</td>\n",
       "      <td>10.25</td>\n",
       "    </tr>\n",
       "    <tr>\n",
       "      <td>8</td>\n",
       "      <td>9</td>\n",
       "      <td>male</td>\n",
       "      <td>33.2</td>\n",
       "      <td>19.38</td>\n",
       "      <td>2</td>\n",
       "      <td>1</td>\n",
       "      <td>14.41</td>\n",
       "      <td>14.42</td>\n",
       "      <td>15.71</td>\n",
       "      <td>17.01</td>\n",
       "      <td>16.60</td>\n",
       "      <td>155.50</td>\n",
       "      <td>131.25</td>\n",
       "      <td>20.24</td>\n",
       "      <td>20.37</td>\n",
       "      <td>0.13</td>\n",
       "      <td>1.60</td>\n",
       "      <td>6.82</td>\n",
       "      <td>626.8</td>\n",
       "      <td>660.33</td>\n",
       "      <td>782.30</td>\n",
       "      <td>-0.86</td>\n",
       "      <td>-0.99</td>\n",
       "      <td>6.22</td>\n",
       "      <td>11.44</td>\n",
       "    </tr>\n",
       "    <tr>\n",
       "      <td>9</td>\n",
       "      <td>10</td>\n",
       "      <td>female</td>\n",
       "      <td>37.1</td>\n",
       "      <td>19.93</td>\n",
       "      <td>3</td>\n",
       "      <td>1</td>\n",
       "      <td>13.12</td>\n",
       "      <td>13.42</td>\n",
       "      <td>14.31</td>\n",
       "      <td>15.19</td>\n",
       "      <td>15.30</td>\n",
       "      <td>106.67</td>\n",
       "      <td>130.67</td>\n",
       "      <td>20.78</td>\n",
       "      <td>21.63</td>\n",
       "      <td>0.84</td>\n",
       "      <td>2.20</td>\n",
       "      <td>6.52</td>\n",
       "      <td>549.5</td>\n",
       "      <td>626.00</td>\n",
       "      <td>656.17</td>\n",
       "      <td>-0.76</td>\n",
       "      <td>-1.82</td>\n",
       "      <td>6.21</td>\n",
       "      <td>10.59</td>\n",
       "    </tr>\n",
       "  </tbody>\n",
       "</table>\n",
       "</div>"
      ],
      "text/plain": [
       "   id     sex  age (months)  dlmo time  days napped  napping  \\\n",
       "0   1  female          33.7      19.24            0        0   \n",
       "1   2  female          31.5      18.27            0        0   \n",
       "2   3    male          31.9      19.14            0        0   \n",
       "3   4  female          31.6      19.69            0        0   \n",
       "4   5  female          33.0      19.52            0        0   \n",
       "5   6  female          36.2      18.22            4        1   \n",
       "6   7    male          36.3      19.28            1        1   \n",
       "7   8    male          30.0      21.06            5        1   \n",
       "8   9    male          33.2      19.38            2        1   \n",
       "9  10  female          37.1      19.93            3        1   \n",
       "\n",
       "   nap lights outl time  nap sleep onset  nap midsleep  nap sleep offset  \\\n",
       "0                   NaN              NaN           NaN               NaN   \n",
       "1                   NaN              NaN           NaN               NaN   \n",
       "2                   NaN              NaN           NaN               NaN   \n",
       "3                   NaN              NaN           NaN               NaN   \n",
       "4                   NaN              NaN           NaN               NaN   \n",
       "5                 14.00            14.22         15.00             15.78   \n",
       "6                 14.75            15.03         15.92             16.80   \n",
       "7                 13.09            13.43         14.44             15.46   \n",
       "8                 14.41            14.42         15.71             17.01   \n",
       "9                 13.12            13.42         14.31             15.19   \n",
       "\n",
       "   nap wake time  nap duration  nap time in bed  night bedtime  \\\n",
       "0            NaN           NaN              NaN          20.45   \n",
       "1            NaN           NaN              NaN          19.23   \n",
       "2            NaN           NaN              NaN          19.60   \n",
       "3            NaN           NaN              NaN          19.46   \n",
       "4            NaN           NaN              NaN          19.21   \n",
       "5          16.28         93.75           137.00          19.95   \n",
       "6          16.08        106.00            80.00          20.60   \n",
       "7          15.82        121.60           163.80          22.01   \n",
       "8          16.60        155.50           131.25          20.24   \n",
       "9          15.30        106.67           130.67          20.78   \n",
       "\n",
       "   night sleep onset  sleep onset latency  night midsleep time  \\\n",
       "0              20.68                 0.23                 1.92   \n",
       "1              19.48                 0.25                 1.09   \n",
       "2              20.05                 0.45                 1.29   \n",
       "3              19.50                 0.05                 1.89   \n",
       "4              19.65                 0.45                 1.30   \n",
       "5              20.25                 0.29                 1.26   \n",
       "6              20.96                 0.36                 2.12   \n",
       "7              22.53                 0.51                 2.92   \n",
       "8              20.37                 0.13                 1.60   \n",
       "9              21.63                 0.84                 2.20   \n",
       "\n",
       "   night wake time  night sleep duration  night time in bed  \\\n",
       "0             7.17                 629.4             643.00   \n",
       "1             6.69                 672.4             700.40   \n",
       "2             6.53                 628.8             682.60   \n",
       "3             8.28                 766.6             784.00   \n",
       "4             6.95                 678.0             718.00   \n",
       "5             6.28                 602.2             653.80   \n",
       "6             7.27                 618.4             655.40   \n",
       "7             7.31                 526.8             582.40   \n",
       "8             6.82                 626.8             660.33   \n",
       "9             6.52                 549.5             626.00   \n",
       "\n",
       "   24 h sleep duration  bedtime phase difference  \\\n",
       "0               629.40                     -1.21   \n",
       "1               672.40                     -0.96   \n",
       "2               628.80                     -0.46   \n",
       "3               766.60                      0.23   \n",
       "4               678.00                      0.31   \n",
       "5               695.95                     -1.73   \n",
       "6               724.40                     -1.32   \n",
       "7               648.40                     -0.95   \n",
       "8               782.30                     -0.86   \n",
       "9               656.17                     -0.76   \n",
       "\n",
       "   sleep onset phase difference  midsleep phase difference  \\\n",
       "0                         -1.44                       6.68   \n",
       "1                         -1.21                       6.82   \n",
       "2                         -0.91                       6.15   \n",
       "3                          0.19                       6.20   \n",
       "4                         -0.13                       5.78   \n",
       "5                         -2.03                       7.05   \n",
       "6                         -1.68                       6.84   \n",
       "7                         -1.47                       5.86   \n",
       "8                         -0.99                       6.22   \n",
       "9                         -1.82                       6.21   \n",
       "\n",
       "   wake time phase difference  \n",
       "0                       11.93  \n",
       "1                       12.42  \n",
       "2                       11.39  \n",
       "3                       12.59  \n",
       "4                       11.43  \n",
       "5                       12.06  \n",
       "6                       11.99  \n",
       "7                       10.25  \n",
       "8                       11.44  \n",
       "9                       10.59  "
      ]
     },
     "execution_count": 3,
     "metadata": {},
     "output_type": "execute_result"
    }
   ],
   "source": [
    "# First, look at the DataFrame to get a sense of the data\n",
    "df.head(10)"
   ]
  },
  {
   "cell_type": "code",
   "execution_count": 4,
   "metadata": {},
   "outputs": [
    {
     "data": {
      "text/plain": [
       "(20, 25)"
      ]
     },
     "execution_count": 4,
     "metadata": {},
     "output_type": "execute_result"
    }
   ],
   "source": [
    "df.shape"
   ]
  },
  {
   "cell_type": "code",
   "execution_count": 17,
   "metadata": {},
   "outputs": [
    {
     "data": {
      "text/plain": [
       "Index(['id', 'sex', 'age (months)', 'dlmo time', 'days napped', 'napping',\n",
       "       'nap lights outl time', 'nap sleep onset', 'nap midsleep',\n",
       "       'nap sleep offset', 'nap wake time', 'nap duration', 'nap time in bed',\n",
       "       'night bedtime', 'night sleep onset', 'sleep onset latency',\n",
       "       'night midsleep time', 'night wake time', 'night sleep duration',\n",
       "       'night time in bed', '24 h sleep duration', 'bedtime phase difference',\n",
       "       'sleep onset phase difference', 'midsleep phase difference',\n",
       "       'wake time phase difference'],\n",
       "      dtype='object')"
      ]
     },
     "execution_count": 17,
     "metadata": {},
     "output_type": "execute_result"
    }
   ],
   "source": [
    "df.columns"
   ]
  },
  {
   "cell_type": "markdown",
   "metadata": {
    "colab_type": "text",
    "id": "9djLvqwJNDos"
   },
   "source": [
    "## Hypothesis testing\n",
    "We will look at two hypothesis test, each with $\\alpha = .025$:  \n",
    "\n",
    "\n",
    "1. Is the average bedtime for toddlers who nap later than the average bedtime for toddlers who don't nap?\n",
    "\n",
    "\n",
    "$$H_0: \\mu_{nap}=\\mu_{no\\ nap}, \\ H_a:\\mu_{nap}>\\mu_{no\\ nap}$$\n",
    "Or equivalently:\n",
    "$$H_0: \\mu_{nap}-\\mu_{no\\ nap}=0, \\ H_a:\\mu_{nap}-\\mu_{no\\ nap}>0$$\n",
    "\n",
    "\n",
    "2. The average 24 h sleep duration (in minutes) for napping toddlers is different from toddlers who don't nap.\n",
    "\n",
    "\n",
    "$$H_0: \\mu_{nap}=\\mu_{no\\ nap}, \\ H_a:\\mu_{nap}\\neq\\mu_{no\\ nap}$$\n",
    "Or equivalenty:\n",
    "$$H_0: \\mu_{nap}-\\mu_{no\\ nap}=0, \\ H_a:\\mu_{nap}-\\mu_{no\\ nap} \\neq 0$$\n",
    "\n",
    "Aside: This $\\alpha$ level is equivalent to $\\alpha = .05$ and then applying the [Bonferonni correction](https://en.wikipedia.org/wiki/Bonferroni_correction)."
   ]
  },
  {
   "cell_type": "markdown",
   "metadata": {
    "colab_type": "text",
    "id": "WprO1i-ONDot"
   },
   "source": [
    "Before any analysis, we will convert 'night bedtime' into decimalized time. "
   ]
  },
  {
   "cell_type": "markdown",
   "metadata": {
    "colab_type": "text",
    "id": "VJyTAzZcNDox"
   },
   "source": [
    "Now, isolate the column 'night bedtime' for those who nap into a new variable, and those who didn't nap into another new variable. "
   ]
  },
  {
   "cell_type": "code",
   "execution_count": 6,
   "metadata": {},
   "outputs": [],
   "source": [
    "# Convert 'night bedtime' into decimalized time\n",
    "df.loc[:,'night bedtime'] = np.floor(df['night bedtime'])*60 + np.round(df['night bedtime']%1,2 )*100"
   ]
  },
  {
   "cell_type": "markdown",
   "metadata": {},
   "source": [
    "## Hypothesis test one\n",
    "\n",
    "### This is a two sided test"
   ]
  },
  {
   "cell_type": "code",
   "execution_count": 12,
   "metadata": {},
   "outputs": [
    {
     "data": {
      "text/plain": [
       "(2.367160052079275, 0.017925179082180703)"
      ]
     },
     "execution_count": 12,
     "metadata": {},
     "output_type": "execute_result"
    }
   ],
   "source": [
    "#run z test by using statsmodel \n",
    "\n",
    "nap_bedtime = df[df[\"napping\"]==1]\n",
    "\n",
    "no_nap_bedtime = df[df[\"napping\"]==0]\n",
    "\n",
    "\n",
    "nap_bedtime_new=nap_bedtime[\"night bedtime\"].dropna()  #series one \n",
    "model_one=sm.stats.DescrStatsW(nap_bedtime_new)\n",
    "\n",
    "\n",
    "no_nap_bedtime_new=no_nap_bedtime[\"night bedtime\"].dropna() #series two \n",
    "model_two=sm.stats.DescrStatsW(no_nap_bedtime_new)\n",
    "\n",
    "sm.stats.CompareMeans(model_one,model_two).ztest_ind(usevar='pooled') "
   ]
  },
  {
   "cell_type": "code",
   "execution_count": 13,
   "metadata": {},
   "outputs": [
    {
     "name": "stdout",
     "output_type": "stream",
     "text": [
      "(2.367160052079275, 0.029334902861805394, 18.0)\n"
     ]
    }
   ],
   "source": [
    "#Or\n",
    "nap = df.loc[df[\"napping\"]==1, \"night bedtime\"]\n",
    "\n",
    "no_nap = df.loc[df[\"napping\"]==0, \"night bedtime\"]\n",
    "\n",
    "print(sm.stats.ttest_ind(nap, no_nap)) # prints test statistic, p-value, degrees of freedom\n"
   ]
  },
  {
   "cell_type": "markdown",
   "metadata": {},
   "source": [
    "### Conclusion: We could reject the null hypothesis with 95% confidence. "
   ]
  },
  {
   "cell_type": "markdown",
   "metadata": {},
   "source": [
    "## Hypothesis test two\n",
    "\n",
    "### This is a two-sided test"
   ]
  },
  {
   "cell_type": "code",
   "execution_count": 20,
   "metadata": {},
   "outputs": [
    {
     "name": "stdout",
     "output_type": "stream",
     "text": [
      "(-2.84094280704821, 0.010840884590074436, 18.0)\n"
     ]
    }
   ],
   "source": [
    "nap = df.loc[df[\"napping\"]==1, \"night sleep duration\"]\n",
    "\n",
    "no_nap = df.loc[df[\"napping\"]==0, \"night sleep duration\"]\n",
    "\n",
    "print(sm.stats.ttest_ind(nap, no_nap)) # prints test statistic, p-value, degrees of freedom\n"
   ]
  },
  {
   "cell_type": "markdown",
   "metadata": {},
   "source": [
    "### Conclusion: We could reject the null hypothesis that there is no differnce of night sleep duration between toddlers who nap and toddlers who don't "
   ]
  },
  {
   "cell_type": "markdown",
   "metadata": {
    "colab_type": "text",
    "id": "63-jF9fmNDpI"
   },
   "source": [
    "**Question**: Given our sample size of $n$, how many degrees of freedom ($df$) are there for the associated $t$ distribution?"
   ]
  },
  {
   "cell_type": "markdown",
   "metadata": {
    "colab_type": "text",
    "id": "S3DC4b-iNDpI"
   },
   "source": [
    "Now calculate the $t$-test statistic for our first hypothesis test using  \n",
    "* pooled s.e.($\\bar{X}_{nap} - \\bar{X}_{no\\ nap}$)  \n",
    "* $\\bar{X}_{nap} - \\bar{X}_{no\\ nap}$  \n",
    "* $\\mu_{0,\\ nap} - \\mu_{0,\\ no\\ nap}=0$, the population difference in means under the null hypothesis"
   ]
  },
  {
   "cell_type": "markdown",
   "metadata": {
    "colab_type": "text",
    "id": "vpGx3jGXNDpJ"
   },
   "source": [
    "**Question**: What is the p-value for the first hypothesis test?"
   ]
  },
  {
   "cell_type": "markdown",
   "metadata": {
    "colab_type": "text",
    "id": "YSys0xG3NDpK"
   },
   "source": [
    "To find the p-value, we can use the function:\n",
    "```\n",
    "t.cdf(y, df)\n",
    "```\n",
    "Which for $X \\sim t(df)$ returns $P(X \\leq y)$.\n",
    "\n",
    "Because of the symmetry of the $t$ distrubution, we have that \n",
    "```\n",
    "1-t.cdf(y, df)\n",
    "```\n",
    "returns $P(X > y)$\n",
    "\n",
    "The function t.cdf(y, df) will give you the same value as finding the one-tailed probability of y on a t-table with the specified degrees of freedom.\n",
    "\n",
    "Use the function t.cdf(y, df) to find the p-value for the first hypothesis test."
   ]
  },
  {
   "cell_type": "markdown",
   "metadata": {
    "colab_type": "text",
    "id": "ObOjGXrTNDpP"
   },
   "source": [
    "**Question**: What are the t-statistic and p-value for the second hypothesis test?\n",
    "\n",
    "Calculate the $t$ test statistics and corresponding p-value using the scipy function scipy.stats.ttest_ind(a, b, equal_var=True) and check with your answer. \n",
    "\n",
    "**Question**: Does scipy.stats.ttest_ind return values for a one-sided or two-sided test?\n",
    "\n",
    "**Question**: Can you think of a way to recover the results you got using 1-t.cdf from the p-value given by scipy.stats.ttest_ind?\n",
    "\n",
    "Use the scipy function scipy.stats.ttest_ind(a, b, equal_var=True) to find the $t$ test statistic and corresponding p-value for the second hypothesis test."
   ]
  },
  {
   "cell_type": "code",
   "execution_count": null,
   "metadata": {
    "colab": {},
    "colab_type": "code",
    "id": "mOdFSpXoNDpQ"
   },
   "outputs": [],
   "source": [
    "from scipy import stats\n"
   ]
  },
  {
   "cell_type": "markdown",
   "metadata": {
    "colab_type": "text",
    "id": "ATF7D28TNDpW"
   },
   "source": [
    "**Question**: For the $\\alpha=.025$, do you reject or fail to reject the first hypothesis?\n",
    "\n",
    "**Question**: For the $\\alpha=.025$, do you reject or fail to reject the second hypothesis?"
   ]
  }
 ],
 "metadata": {
  "colab": {
   "collapsed_sections": [],
   "name": "Hypothesis testing assessment.ipynb",
   "provenance": [],
   "version": "0.3.2"
  },
  "kernelspec": {
   "display_name": "Python 3",
   "language": "python",
   "name": "python3"
  },
  "language_info": {
   "codemirror_mode": {
    "name": "ipython",
    "version": 3
   },
   "file_extension": ".py",
   "mimetype": "text/x-python",
   "name": "python",
   "nbconvert_exporter": "python",
   "pygments_lexer": "ipython3",
   "version": "3.7.4"
  }
 },
 "nbformat": 4,
 "nbformat_minor": 4
}
